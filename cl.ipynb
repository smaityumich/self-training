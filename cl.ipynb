{
 "metadata": {
  "language_info": {
   "codemirror_mode": {
    "name": "ipython",
    "version": 3
   },
   "file_extension": ".py",
   "mimetype": "text/x-python",
   "name": "python",
   "nbconvert_exporter": "python",
   "pygments_lexer": "ipython3",
   "version": "3.7.6-final"
  },
  "orig_nbformat": 2,
  "kernelspec": {
   "name": "python37664bitd090249c0cf5439884290524b93fde75",
   "display_name": "Python 3.7.6 64-bit"
  }
 },
 "nbformat": 4,
 "nbformat_minor": 2,
 "cells": [
  {
   "cell_type": "code",
   "execution_count": 2,
   "metadata": {},
   "outputs": [],
   "source": [
    "import numpy as np\n",
    "from scipy.linalg import sqrtm, inv\n",
    "from sklearn.linear_model import LogisticRegression\n",
    "d, r = 4, 0.1\n",
    "sigma = np.identity(d) * (1-r) + r\n",
    "M = sqrtm(sigma)\n",
    "mu = np.repeat(1, d).reshape((-1,1))"
   ]
  },
  {
   "source": [
    "### Source data"
   ],
   "cell_type": "markdown",
   "metadata": {}
  },
  {
   "cell_type": "code",
   "execution_count": 3,
   "metadata": {},
   "outputs": [],
   "source": [
    "n_source, pi_source = 200, 0.5\n",
    "y_source = np.random.binomial(1, pi_source, (n_source,1))\n",
    "x_source = np.random.normal(0, 1, (n_source, d)) @ M + y_source @ mu.T"
   ]
  },
  {
   "source": [
    "### Target data"
   ],
   "cell_type": "markdown",
   "metadata": {}
  },
  {
   "cell_type": "code",
   "execution_count": 4,
   "metadata": {},
   "outputs": [],
   "source": [
    "n_target, pi_target = 200, 0.75\n",
    "y_target = np.random.binomial(1, pi_target, (n_target,1))\n",
    "x_target = np.random.normal(0, 1, (n_target, d)) @ M + y_target @ mu.T\n",
    "x_target = x_target[:, :3]"
   ]
  },
  {
   "source": [
    "### Test data set"
   ],
   "cell_type": "markdown",
   "metadata": {}
  },
  {
   "cell_type": "code",
   "execution_count": 5,
   "metadata": {},
   "outputs": [],
   "source": [
    "n_test, pi_test = 200, pi_target\n",
    "y_test = np.random.binomial(1, pi_test, (n_test,1))\n",
    "x_test = np.random.normal(0, 1, (n_test, d)) @ M + y_test @ mu.T\n",
    "x_test = x_test[:, :3]"
   ]
  },
  {
   "source": [
    "### Logistic classifier \n",
    "\n",
    "We fit logistic regression with the full source data, target data with estimated last co-ordinate and measure the performance with estimated last co-ordinate. "
   ],
   "cell_type": "markdown",
   "metadata": {}
  },
  {
   "source": [
    "#### Source classifier"
   ],
   "cell_type": "markdown",
   "metadata": {}
  },
  {
   "cell_type": "code",
   "execution_count": 6,
   "metadata": {},
   "outputs": [
    {
     "output_type": "execute_result",
     "data": {
      "text/plain": [
       "LogisticRegression(C=1.0, class_weight=None, dual=False, fit_intercept=True,\n",
       "                   intercept_scaling=1, l1_ratio=None, max_iter=1000,\n",
       "                   multi_class='auto', n_jobs=None, penalty='l2',\n",
       "                   random_state=None, solver='lbfgs', tol=0.0001, verbose=0,\n",
       "                   warm_start=False)"
      ]
     },
     "metadata": {},
     "execution_count": 6
    }
   ],
   "source": [
    "scl = LogisticRegression(max_iter=1000)\n",
    "scl.fit(x_source, y_source)"
   ]
  },
  {
   "source": [
    "#### Mean and co-variance matrix estimation"
   ],
   "cell_type": "markdown",
   "metadata": {}
  },
  {
   "cell_type": "code",
   "execution_count": 11,
   "metadata": {},
   "outputs": [],
   "source": [
    "# Mean estimation\n",
    "mu_present = np.mean(np.concatenate([x_source[:, :3], x_target, x_test], 0), axis=0)\n",
    "mu_missing = np.mean(x_source[:, 3])\n",
    "# Covariance estimation\n",
    "cov_present = np.cov(np.concatenate([x_source[:, :3], x_target, x_test], 0), rowvar=False)\n",
    "cov_missing = np.cov(x_source[:, 3], rowvar=False)\n",
    "cov_present_vs_missing = (x_source[:, :3].T @x_source[:, 3]/200).T"
   ]
  },
  {
   "source": [
    "### Imputation of the missing covariates\n",
    "\n",
    "\n",
    " $\\hat x = \\Sigma_{\\text{missing}, \\text{present}}\\Sigma_{\\text{present}}^{-1}(x_{\\text{present}} - \\mu_{\\text{present}})$"
   ],
   "cell_type": "markdown",
   "metadata": {}
  },
  {
   "cell_type": "code",
   "execution_count": null,
   "metadata": {},
   "outputs": [],
   "source": [
    "def covariate_imputation(x, y, mu = np.array([0]*3), sigma_present = np.identity(d)\\\n",
    "    sigma_missing = 1, cov = np.array([0]*3)):\n",
    "    return (((x - mu) @ inv(sigma[:3, :3]) @ sigma[:3, 3])\\\n",
    "         + y * mu[3]).reshape((-1,1))\n"
   ]
  },
  {
   "cell_type": "code",
   "execution_count": null,
   "metadata": {},
   "outputs": [],
   "source": []
  }
 ]
}