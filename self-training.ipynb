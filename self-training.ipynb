{
 "metadata": {
  "language_info": {
   "codemirror_mode": {
    "name": "ipython",
    "version": 3
   },
   "file_extension": ".py",
   "mimetype": "text/x-python",
   "name": "python",
   "nbconvert_exporter": "python",
   "pygments_lexer": "ipython3",
   "version": "3.7.6-final"
  },
  "orig_nbformat": 2,
  "kernelspec": {
   "name": "python37664bitd090249c0cf5439884290524b93fde75",
   "display_name": "Python 3.7.6 64-bit"
  }
 },
 "nbformat": 4,
 "nbformat_minor": 2,
 "cells": [
  {
   "cell_type": "code",
   "execution_count": 1,
   "metadata": {},
   "outputs": [],
   "source": [
    "import numpy as np\n",
    "from sklearn.linear_model import LogisticRegression"
   ]
  },
  {
   "cell_type": "code",
   "execution_count": 2,
   "metadata": {},
   "outputs": [],
   "source": [
    "n_lab, d, pi = 200, 4, 0.5\n",
    "mu = np.array([2]*d).reshape((-1, 1))\n",
    "y_lab = np.random.binomial(1, pi, (n_lab, 1))\n",
    "x_lab = np.random.normal(0, 1, (n_lab, d)) + y_lab @ mu.T"
   ]
  },
  {
   "cell_type": "code",
   "execution_count": 3,
   "metadata": {},
   "outputs": [],
   "source": [
    "n_unlab = 200\n",
    "y_unlab = np.random.binomial(1, pi, (n_unlab, 1))\n",
    "x_unlab = np.random.normal(0, 1, (n_unlab, d)) + y_unlab @ mu.T"
   ]
  },
  {
   "cell_type": "code",
   "execution_count": 4,
   "metadata": {},
   "outputs": [],
   "source": [
    "n_test = 2000\n",
    "y_test = np.random.binomial(1, pi, (n_test, 1))\n",
    "x_test = np.random.normal(0, 1, (n_test, d)) + y_test @ mu.T"
   ]
  },
  {
   "cell_type": "code",
   "execution_count": 5,
   "metadata": {},
   "outputs": [
    {
     "output_type": "stream",
     "name": "stdout",
     "text": [
      "123\n2\n"
     ]
    }
   ],
   "source": [
    "x_aug, y_aug = x_lab, y_lab\n",
    "x_remaining = x_unlab\n",
    "cl = LogisticRegression(max_iter=1000)\n",
    "error = []\n",
    "iters = 0\n",
    "while x_remaining.shape[0] > 0 and iters < 20:\n",
    "    cl.fit(x_aug, y_aug)\n",
    "    y_hat = cl.predict(x_test).reshape((-1, 1))\n",
    "    error.append(np.mean((y_test-y_hat)**2))\n",
    "    aug = np.any(cl.predict_proba(x_remaining) > 0.99, axis = 1)\n",
    "    if sum(aug) > 0:\n",
    "        print(sum(aug))\n",
    "        x_to_aug = x_remaining[aug, :]\n",
    "        y_to_aug = cl.predict(x_to_aug).reshape((-1,1))\n",
    "        x_aug = np.concatenate((x_aug, x_to_aug), axis = 0)\n",
    "        y_aug = np.concatenate((y_aug, y_to_aug), axis = 0)\n",
    "\n",
    "        x_remaining = x_remaining[~aug, :]\n",
    "    else:\n",
    "        break \n",
    "    iters += 1"
   ]
  },
  {
   "cell_type": "code",
   "execution_count": 6,
   "metadata": {},
   "outputs": [
    {
     "output_type": "execute_result",
     "data": {
      "text/plain": [
       "[0.0245, 0.0245, 0.0245]"
      ]
     },
     "metadata": {},
     "execution_count": 6
    }
   ],
   "source": [
    "error"
   ]
  },
  {
   "cell_type": "code",
   "execution_count": null,
   "metadata": {},
   "outputs": [],
   "source": []
  }
 ]
}